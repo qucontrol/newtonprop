{
 "cells": [
  {
   "cell_type": "markdown",
   "metadata": {},
   "source": [
    "# Example"
   ]
  },
  {
   "cell_type": "code",
   "execution_count": 1,
   "metadata": {},
   "outputs": [
    {
     "name": "stdout",
     "output_type": "stream",
     "text": [
      "qutip       4.3.1\n",
      "numpy       1.15.4\n",
      "matplotlib  3.0.2\n",
      "matplotlib.pylab  1.15.4\n",
      "newtonprop  0.1.0\n",
      "CPython 3.6.7\n",
      "IPython 7.2.0\n"
     ]
    }
   ],
   "source": [
    "# NBVAL_IGNORE_OUTPUT\n",
    "%load_ext watermark\n",
    "import qutip\n",
    "import numpy as np\n",
    "from numpy import pi\n",
    "import matplotlib\n",
    "import matplotlib.pylab as plt\n",
    "import newtonprop\n",
    "%watermark -v --iversions"
   ]
  },
  {
   "cell_type": "markdown",
   "metadata": {},
   "source": [
    "## QuTiP Model"
   ]
  },
  {
   "cell_type": "markdown",
   "metadata": {},
   "source": [
    "We consider the example of a driven harmonic oscillator with spontaneous decay, truncated to 10-levels. The dynamics start from the totally mixed state."
   ]
  },
  {
   "cell_type": "code",
   "execution_count": 2,
   "metadata": {},
   "outputs": [],
   "source": [
    "def liouvillian(N=10):\n",
    "\n",
    "    two_pi = 2.0 * pi\n",
    "    w_c = two_pi * 0.01\n",
    "    gamma = two_pi * 0.1\n",
    "    E0 = 0.5\n",
    "\n",
    "    # Drift Hamiltonian\n",
    "    H0 = np.array(np.zeros(shape=(N, N), dtype=np.complex128))\n",
    "    for i in range(N):\n",
    "        H0[i, i] = i * w_c\n",
    "\n",
    "    # Control Hamiltonian\n",
    "    H1 = np.array(np.zeros(shape=(N, N), dtype=np.complex128))\n",
    "    for i in range(1, N):\n",
    "        H1[i-1, i] = np.sqrt(float(i))\n",
    "        H1[i, i-1] = H1[i-1, i]\n",
    "\n",
    "    # Total Hamiltonian\n",
    "    H = H0 + E0 * H1\n",
    "\n",
    "    # Dissipator\n",
    "    a = np.array(np.zeros(shape=(N, N), dtype=np.complex128))\n",
    "    for i in range(1, N):\n",
    "        a[i-1, i] = np.sqrt(i)\n",
    "\n",
    "    a_dag = a.conj().T\n",
    "\n",
    "    return qutip.Qobj(H), [qutip.Qobj(a), ]"
   ]
  },
  {
   "cell_type": "code",
   "execution_count": 3,
   "metadata": {},
   "outputs": [],
   "source": [
    "def rho_mixed(N=10):\n",
    "    rho = np.matrix(np.zeros(shape=(N, N), dtype=np.complex128))\n",
    "    rho[:, :] = 1.0 / float(N)\n",
    "    return qutip.Qobj(rho)"
   ]
  },
  {
   "cell_type": "code",
   "execution_count": 4,
   "metadata": {},
   "outputs": [],
   "source": [
    "H, c_ops = liouvillian()"
   ]
  },
  {
   "cell_type": "code",
   "execution_count": 5,
   "metadata": {},
   "outputs": [],
   "source": [
    "rho0 = rho_mixed()"
   ]
  },
  {
   "cell_type": "code",
   "execution_count": 6,
   "metadata": {},
   "outputs": [],
   "source": [
    "L = qutip.liouvillian(H, c_ops)"
   ]
  },
  {
   "cell_type": "code",
   "execution_count": 7,
   "metadata": {},
   "outputs": [],
   "source": [
    "tlist = np.linspace(0, 10, 100)"
   ]
  },
  {
   "cell_type": "markdown",
   "metadata": {},
   "source": [
    "## Reference Dynamics"
   ]
  },
  {
   "cell_type": "markdown",
   "metadata": {},
   "source": [
    "We can use QuTiP's `mesolve` routine to analyze the system dynamics:"
   ]
  },
  {
   "cell_type": "code",
   "execution_count": 8,
   "metadata": {},
   "outputs": [],
   "source": [
    "result_mesolve = qutip.mesolve(L, rho0, tlist)"
   ]
  },
  {
   "cell_type": "code",
   "execution_count": 9,
   "metadata": {},
   "outputs": [],
   "source": [
    "def plot_pop_dynamcis(result):\n",
    "    data = np.array([state.diag() for state in result.states])\n",
    "    fig, ax = plt.subplots()\n",
    "    n = data.shape[1]\n",
    "    for level in range(n):\n",
    "        ax.plot(result.times, np.real(data[:, level]), label=\"%d\" % (level+1))\n",
    "    ax.legend()\n",
    "    plt.show(fig)"
   ]
  },
  {
   "cell_type": "code",
   "execution_count": 10,
   "metadata": {},
   "outputs": [
    {
     "data": {
      "image/png": "[encoded data removed]",
      "text/plain": [
       "<Figure size 432x288 with 1 Axes>"
      ]
     },
     "metadata": {
      "needs_background": "light"
     },
     "output_type": "display_data"
    }
   ],
   "source": [
    "plot_pop_dynamcis(result_mesolve)"
   ]
  },
  {
   "cell_type": "markdown",
   "metadata": {},
   "source": [
    "For comparison with the Newton propagator which is supposed to be exect to a pre-specified limit ($10^{-12}$, by default), it is better if we can compare to the propagation that results from exactly exponentiating the Liouvillian."
   ]
  },
  {
   "cell_type": "code",
   "execution_count": 11,
   "metadata": {},
   "outputs": [],
   "source": [
    "class Result():\n",
    "    \"\"\"Dummy class for propagation result\"\"\"\n",
    "    pass"
   ]
  },
  {
   "cell_type": "code",
   "execution_count": 12,
   "metadata": {},
   "outputs": [],
   "source": [
    "def propagate_expm(L, rho0, tlist):\n",
    "    result = Result()\n",
    "    result.times = tlist\n",
    "    dt = tlist[1] - tlist[0]\n",
    "    states = [rho0, ]\n",
    "    rho = rho0\n",
    "    E = (L * dt).expm()\n",
    "    for _ in range(len(tlist)-1):\n",
    "        rho = E(rho)\n",
    "        states.append(rho)\n",
    "    result.states = states\n",
    "    return result"
   ]
  },
  {
   "cell_type": "code",
   "execution_count": 13,
   "metadata": {},
   "outputs": [],
   "source": [
    "result_expm = propagate_expm(L, rho0, tlist)"
   ]
  },
  {
   "cell_type": "code",
   "execution_count": 14,
   "metadata": {},
   "outputs": [],
   "source": [
    "def error(result1, result2):\n",
    "    err = np.linalg.norm(\n",
    "          result1.states[-1].full()\n",
    "        - result2.states[-1].full())\n",
    "    print(\"%.1e\" % err)"
   ]
  },
  {
   "cell_type": "markdown",
   "metadata": {},
   "source": [
    "This is our \"exact baseline\". The `mesolve` routine is only exact to about $10^{-7}$."
   ]
  },
  {
   "cell_type": "code",
   "execution_count": 15,
   "metadata": {},
   "outputs": [
    {
     "name": "stdout",
     "output_type": "stream",
     "text": [
      "1.2e-07\n"
     ]
    }
   ],
   "source": [
    "error(result_mesolve, result_expm)"
   ]
  },
  {
   "cell_type": "markdown",
   "metadata": {},
   "source": [
    "## Newton propagation of QuTiP objects"
   ]
  },
  {
   "cell_type": "markdown",
   "metadata": {},
   "source": [
    "First, we use the Newton propagator to simulate the dynamics using QuTiP objects."
   ]
  },
  {
   "cell_type": "code",
   "execution_count": 16,
   "metadata": {},
   "outputs": [],
   "source": [
    "def zero_qutip(v):\n",
    "    return qutip.Qobj(np.zeros(shape=v.shape))\n",
    "\n",
    "def norm_qutip(v):\n",
    "    return v.norm(\"fro\")\n",
    "\n",
    "def inner_qutip(a, b):\n",
    "    return complex((a.dag() * b).tr())\n",
    "\n",
    "def propagate(L, rho0, tlist, zero, norm, inner, tol=1e-12):\n",
    "    result = Result()\n",
    "    result.times = tlist\n",
    "    dt = tlist[1] - tlist[0]\n",
    "    states = [rho0]\n",
    "    rho = rho0\n",
    "    for _ in range(len(tlist) - 1):\n",
    "        rho = newtonprop.newton(\n",
    "            L, rho, dt, func='exp', zero=zero, norm=norm, inner=inner, tol=tol\n",
    "        )\n",
    "        states.append(rho)\n",
    "    result.states = states\n",
    "    return result"
   ]
  },
  {
   "cell_type": "markdown",
   "metadata": {},
   "source": [
    "Using the Frobenious norm here is absolutely critical: QuTiP's default norm is not compatible with the inner product, and will lead to a subtle error."
   ]
  },
  {
   "cell_type": "code",
   "execution_count": 17,
   "metadata": {},
   "outputs": [],
   "source": [
    "result_qutip = propagate(L, rho0, tlist, zero_qutip, norm_qutip, inner_qutip, tol=1e-12)"
   ]
  },
  {
   "cell_type": "code",
   "execution_count": 18,
   "metadata": {},
   "outputs": [
    {
     "name": "stdout",
     "output_type": "stream",
     "text": [
      "8.7e-11\n"
     ]
    }
   ],
   "source": [
    "error(result_qutip, result_expm)"
   ]
  },
  {
   "cell_type": "code",
   "execution_count": 19,
   "metadata": {},
   "outputs": [],
   "source": [
    "result_qutip = propagate(L, rho0, tlist, zero_qutip, norm_qutip, inner_qutip, tol=1e-8)"
   ]
  },
  {
   "cell_type": "code",
   "execution_count": 20,
   "metadata": {},
   "outputs": [
    {
     "name": "stdout",
     "output_type": "stream",
     "text": [
      "1.3e-09\n"
     ]
    }
   ],
   "source": [
    "error(result_qutip, result_expm)"
   ]
  },
  {
   "cell_type": "markdown",
   "metadata": {},
   "source": [
    "## Newton propagation of QuTiP objects with Cython"
   ]
  },
  {
   "cell_type": "code",
   "execution_count": 21,
   "metadata": {},
   "outputs": [],
   "source": [
    "from qutip.cy.spmatfuncs import cy_ode_rhs\n",
    "from qutip.superoperator import mat2vec"
   ]
  },
  {
   "cell_type": "code",
   "execution_count": 22,
   "metadata": {},
   "outputs": [],
   "source": [
    "L_data = L.data.data\n",
    "L_indices = L.data.indices\n",
    "L_indptr = L.data.indptr\n",
    "rho0_data = mat2vec(rho0.full()).ravel('F')\n",
    "\n",
    "def zero_vectorized(v):\n",
    "    return np.zeros(shape=v.shape, dtype=v.dtype)\n",
    "\n",
    "def norm_vectorized(v):\n",
    "    return np.linalg.norm(v)\n",
    "\n",
    "def inner_vectorized(a, b):\n",
    "    return np.vdot(a, b)\n",
    "\n",
    "def apply_cythonized_L(rho_data):\n",
    "    return cy_ode_rhs(0, rho_data, L_data, L_indices, L_indptr)"
   ]
  },
  {
   "cell_type": "code",
   "execution_count": 23,
   "metadata": {},
   "outputs": [],
   "source": [
    "result_qutip_cython = propagate(apply_cythonized_L, rho0_data, tlist, zero_vectorized, norm_vectorized, inner_vectorized)"
   ]
  },
  {
   "cell_type": "code",
   "execution_count": 24,
   "metadata": {},
   "outputs": [],
   "source": [
    "N = rho0.shape[0]\n",
    "result_qutip_cython.states = [\n",
    "    qutip.Qobj(rho.reshape((N,N), order='F'))\n",
    "    for rho in result_qutip_cython.states]"
   ]
  },
  {
   "cell_type": "code",
   "execution_count": 25,
   "metadata": {},
   "outputs": [
    {
     "name": "stdout",
     "output_type": "stream",
     "text": [
      "3.5e-11\n"
     ]
    }
   ],
   "source": [
    "error(result_qutip_cython, result_expm)"
   ]
  },
  {
   "cell_type": "markdown",
   "metadata": {},
   "source": [
    "## Newton propagation of vectorized state"
   ]
  },
  {
   "cell_type": "markdown",
   "metadata": {},
   "source": [
    "Second, we do the same dynamics, but using equivalent numpy arrays and matrices"
   ]
  },
  {
   "cell_type": "code",
   "execution_count": 26,
   "metadata": {},
   "outputs": [],
   "source": [
    "def zero_vectorized(v):\n",
    "    return np.zeros(shape=v.shape, dtype=v.dtype)\n",
    "\n",
    "def norm_vectorized(v):\n",
    "    return np.linalg.norm(v)\n",
    "\n",
    "def inner_vectorized(a, b):\n",
    "    return np.vdot(a, b)\n",
    "\n",
    "rho0_vectorized = qutip.operator_to_vector(rho0).full().flatten()\n",
    "Lmatrix = L.full()\n",
    "\n",
    "def L_vectorized(v):\n",
    "    return Lmatrix @ v"
   ]
  },
  {
   "cell_type": "code",
   "execution_count": 27,
   "metadata": {},
   "outputs": [],
   "source": [
    "result_vectorized = propagate(L_vectorized, rho0_vectorized, tlist, zero_vectorized, norm_vectorized, inner_vectorized)"
   ]
  },
  {
   "cell_type": "code",
   "execution_count": 28,
   "metadata": {},
   "outputs": [],
   "source": [
    "N = rho0.shape[0]\n",
    "result_vectorized.states = [\n",
    "    qutip.Qobj(rho.reshape((N,N), order='F'))\n",
    "    for rho in result_vectorized.states]"
   ]
  },
  {
   "cell_type": "code",
   "execution_count": 29,
   "metadata": {},
   "outputs": [
    {
     "name": "stdout",
     "output_type": "stream",
     "text": [
      "3.5e-11\n"
     ]
    }
   ],
   "source": [
    "error(result_vectorized, result_expm)"
   ]
  }
 ],
 "metadata": {
  "kernelspec": {
   "display_name": "Python 3",
   "language": "python",
   "name": "python3"
  },
  "language_info": {
   "codemirror_mode": {
    "name": "ipython",
    "version": 3
   },
   "file_extension": ".py",
   "mimetype": "text/x-python",
   "name": "python",
   "nbconvert_exporter": "python",
   "pygments_lexer": "ipython3",
   "version": "3.6.7"
  }
 },
 "nbformat": 4,
 "nbformat_minor": 2
}
